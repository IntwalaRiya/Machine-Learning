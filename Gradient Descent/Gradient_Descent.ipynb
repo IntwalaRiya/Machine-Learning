{
 "cells": [
  {
   "cell_type": "markdown",
   "metadata": {},
   "source": [
    "# Gradient Descent"
   ]
  },
  {
   "cell_type": "code",
   "execution_count": 1,
   "metadata": {},
   "outputs": [
    {
     "data": {
      "text/html": [
       "<div>\n",
       "<style scoped>\n",
       "    .dataframe tbody tr th:only-of-type {\n",
       "        vertical-align: middle;\n",
       "    }\n",
       "\n",
       "    .dataframe tbody tr th {\n",
       "        vertical-align: top;\n",
       "    }\n",
       "\n",
       "    .dataframe thead th {\n",
       "        text-align: right;\n",
       "    }\n",
       "</style>\n",
       "<table border=\"1\" class=\"dataframe\">\n",
       "  <thead>\n",
       "    <tr style=\"text-align: right;\">\n",
       "      <th></th>\n",
       "      <th>name</th>\n",
       "      <th>math</th>\n",
       "      <th>cs</th>\n",
       "    </tr>\n",
       "  </thead>\n",
       "  <tbody>\n",
       "    <tr>\n",
       "      <td>0</td>\n",
       "      <td>david</td>\n",
       "      <td>92</td>\n",
       "      <td>98</td>\n",
       "    </tr>\n",
       "    <tr>\n",
       "      <td>1</td>\n",
       "      <td>laura</td>\n",
       "      <td>56</td>\n",
       "      <td>68</td>\n",
       "    </tr>\n",
       "    <tr>\n",
       "      <td>2</td>\n",
       "      <td>sanjay</td>\n",
       "      <td>88</td>\n",
       "      <td>81</td>\n",
       "    </tr>\n",
       "    <tr>\n",
       "      <td>3</td>\n",
       "      <td>wei</td>\n",
       "      <td>70</td>\n",
       "      <td>80</td>\n",
       "    </tr>\n",
       "    <tr>\n",
       "      <td>4</td>\n",
       "      <td>jeff</td>\n",
       "      <td>80</td>\n",
       "      <td>83</td>\n",
       "    </tr>\n",
       "  </tbody>\n",
       "</table>\n",
       "</div>"
      ],
      "text/plain": [
       "     name  math  cs\n",
       "0   david    92  98\n",
       "1   laura    56  68\n",
       "2  sanjay    88  81\n",
       "3     wei    70  80\n",
       "4    jeff    80  83"
      ]
     },
     "execution_count": 1,
     "metadata": {},
     "output_type": "execute_result"
    }
   ],
   "source": [
    "#Reading file\n",
    "import numpy as np\n",
    "import pandas as pd\n",
    "import matplotlib.pyplot as plt\n",
    "\n",
    "df = pd.read_csv('test_Scores.csv')\n",
    "df.head(5)"
   ]
  },
  {
   "cell_type": "code",
   "execution_count": 13,
   "metadata": {},
   "outputs": [],
   "source": [
    "#Defining Gradient Descent\n",
    "def gradient_descent(x,y,threshold_value):\n",
    "    m_curr = b_curr = 0\n",
    "    iternation=1000\n",
    "    rate = 0.00009\n",
    "    n = len(x)\n",
    "    \n",
    "    for i in range(iternation):\n",
    "        y_predicted = m_curr * x + b_curr\n",
    "        cost=(1/n) * sum({val**2 for val in (y-y_predicted)})\n",
    "        md = -(2/n)*sum(x*(y-y_predicted))\n",
    "        bd = -(2/n)*sum(y-y_predicted)\n",
    "        m_curr = m_curr - rate * md\n",
    "        b_curr = b_curr - rate * bd\n",
    "        print(\"cost {:.5f} for iteration {}\".format(cost,i))\n",
    "        if np.isclose(cost, threshold_value, rtol=1e-03):\n",
    "            print(\"\\n\\nCost Value touched given Threshold Value {:.5f} at iteration {}.\\n\".format(threshold_value,i))\n",
    "            break\n",
    "    \n",
    "    print(\"\\n\\nFinal values of slop and interception\\n\\tm(slope): {:.5f}\\n\\tb(intercept): {:.5f} \\n\".format(m_curr,b_curr))"
   ]
  },
  {
   "cell_type": "code",
   "execution_count": 14,
   "metadata": {},
   "outputs": [
    {
     "name": "stdout",
     "output_type": "stream",
     "text": [
      "cost 4736.70000 for iteration 0\n",
      "cost 144.55351 for iteration 1\n",
      "cost 34.27168 for iteration 2\n",
      "cost 31.86551 for iteration 3\n",
      "cost 31.81301 for iteration 4\n",
      "\n",
      "\n",
      "Cost Value touched given Threshold Value 31.80000 at iteration 4.\n",
      "\n",
      "\n",
      "\n",
      "Final values of slop and interception\n",
      "\tm(slope): 1.04448\n",
      "\tb(intercept): 0.01484 \n",
      "\n"
     ]
    }
   ],
   "source": [
    "#Calling Gradient Descent function on math and cs\n",
    "gradient_descent(df.math,df.cs,threshold_value=31.80)"
   ]
  }
 ],
 "metadata": {
  "kernelspec": {
   "display_name": "Python 3",
   "language": "python",
   "name": "python3"
  },
  "language_info": {
   "codemirror_mode": {
    "name": "ipython",
    "version": 3
   },
   "file_extension": ".py",
   "mimetype": "text/x-python",
   "name": "python",
   "nbconvert_exporter": "python",
   "pygments_lexer": "ipython3",
   "version": "3.7.4"
  }
 },
 "nbformat": 4,
 "nbformat_minor": 2
}
